{
  "cells": [
    {
      "cell_type": "markdown",
      "metadata": {
        "id": "view-in-github",
        "colab_type": "text"
      },
      "source": [
        "<a href=\"https://colab.research.google.com/github/Abmichael/penn-treebank-ptb/blob/main/Penn_Treebank_GitHub_Training.ipynb\" target=\"_parent\"><img src=\"https://colab.research.google.com/assets/colab-badge.svg\" alt=\"Open In Colab\"/></a>"
      ]
    },
    {
      "cell_type": "markdown",
      "id": "7475a970",
      "metadata": {
        "id": "7475a970"
      },
      "source": [
        "# Penn Treebank Language Modeling\n",
        "*A complete implementation of LSTM-based language modeling on the Penn Treebank dataset*"
      ]
    },
    {
      "cell_type": "markdown",
      "id": "06d23b7e",
      "metadata": {
        "id": "06d23b7e"
      },
      "source": [
        "## Overview\n",
        "\n",
        "This notebook demonstrates end-to-end language modeling on the Penn Treebank dataset with the following features:\n",
        "\n",
        "**🎯 Key Features:**\n",
        "- **GitHub Integration**: Project loaded directly from repository\n",
        "- **Zero Setup**: No manual uploads required\n",
        "- **GPU Acceleration**: Optimized for Colab GPU training\n",
        "- **Interactive Evaluation**: Generate text with custom seed words\n",
        "- **Comprehensive Analysis**: Data exploration and model evaluation\n",
        "\n",
        "**⚙️ Requirements:**\n",
        "- Google Colab with GPU runtime\n",
        "- Public GitHub repository (automatically cloned)"
      ]
    },
    {
      "cell_type": "code",
      "execution_count": 1,
      "id": "d9078bc1",
      "metadata": {
        "colab": {
          "base_uri": "https://localhost:8080/"
        },
        "id": "d9078bc1",
        "outputId": "db738753-289f-4651-df24-d19f68b80026"
      },
      "outputs": [
        {
          "output_type": "stream",
          "name": "stdout",
          "text": [
            "🚀 Penn Treebank Language Modeling\n",
            "==================================================\n"
          ]
        }
      ],
      "source": [
        "# Configuration - Update with your GitHub repository\n",
        "GITHUB_REPO = \"https://github.com/Abmichael/penn-treebank-ptb.git\"\n",
        "PROJECT_NAME = \"penn-treebank-ptb\"\n",
        "\n",
        "print(\"🚀 Penn Treebank Language Modeling\")\n",
        "print(\"=\" * 50)"
      ]
    },
    {
      "cell_type": "markdown",
      "id": "c5317d02",
      "metadata": {
        "id": "c5317d02"
      },
      "source": [
        "## 1. Project Setup\n",
        "\n",
        "First, we'll clone the project from GitHub and set up the environment."
      ]
    },
    {
      "cell_type": "code",
      "execution_count": 2,
      "id": "5e489e63",
      "metadata": {
        "colab": {
          "base_uri": "https://localhost:8080/"
        },
        "id": "5e489e63",
        "outputId": "f2dd162b-60a4-4ce7-fe04-b3a4d25f7064"
      },
      "outputs": [
        {
          "output_type": "stream",
          "name": "stdout",
          "text": [
            "📦 Cloning project from GitHub...\n",
            "✅ Project cloned successfully!\n",
            "📁 Working directory: /content/penn-treebank-ptb\n",
            "\n",
            "📂 Storage Strategy:\n",
            "   • Source code: GitHub repository\n",
            "   • Generated files: Local session storage\n",
            "   • Results: Available for download\n",
            "✅ Project structure verified!\n",
            "📋 Contents: cleanup.bat, notebooks, config, requirements.txt, .gitignore, runs, extract_zst.py, Penn_Treebank_GitHub_Training.ipynb, project_summary.py, src, data, checkpoints, .git, cleanup.ps1, scripts, demo_training.py, PROJECT_STATUS.md, documentation.md, logs, Penn_Treebank_Colab_Training.ipynb, outputs, README.md\n"
          ]
        }
      ],
      "source": [
        "import os\n",
        "import subprocess\n",
        "import sys\n",
        "\n",
        "# Clone project from GitHub\n",
        "if not os.path.exists(PROJECT_NAME):\n",
        "    print(\"📦 Cloning project from GitHub...\")\n",
        "    try:\n",
        "        result = subprocess.run(['git', 'clone', GITHUB_REPO],\n",
        "                              capture_output=True, text=True, check=True)\n",
        "        print(\"✅ Project cloned successfully!\")\n",
        "    except subprocess.CalledProcessError as e:\n",
        "        print(f\"❌ Failed to clone repository: {e}\")\n",
        "        print(\"Please ensure the repository URL is correct and publicly accessible\")\n",
        "        sys.exit(1)\n",
        "else:\n",
        "    print(\"✅ Project already exists\")\n",
        "\n",
        "# Change to project directory\n",
        "os.chdir(PROJECT_NAME)\n",
        "print(f\"📁 Working directory: {os.getcwd()}\")\n",
        "\n",
        "# Create local directories for generated files\n",
        "local_dirs = ['checkpoints', 'runs', 'logs', 'outputs']\n",
        "for dir_name in local_dirs:\n",
        "    os.makedirs(dir_name, exist_ok=True)\n",
        "\n",
        "print(\"\\n📂 Storage Strategy:\")\n",
        "print(\"   • Source code: GitHub repository\")\n",
        "print(\"   • Generated files: Local session storage\")\n",
        "print(\"   • Results: Available for download\")\n",
        "\n",
        "# Verify project structure\n",
        "required_items = ['src', 'config', 'data', 'requirements.txt']\n",
        "missing_items = [item for item in required_items if not os.path.exists(item)]\n",
        "\n",
        "if missing_items:\n",
        "    print(f\"⚠️ Missing required items: {missing_items}\")\n",
        "else:\n",
        "    print(\"✅ Project structure verified!\")\n",
        "    print(f\"📋 Contents: {', '.join(os.listdir('.'))}\")"
      ]
    },
    {
      "cell_type": "markdown",
      "id": "b95e44b1",
      "metadata": {
        "id": "b95e44b1"
      },
      "source": [
        "## 2. Environment Setup\n",
        "\n",
        "Install dependencies and verify GPU availability."
      ]
    },
    {
      "cell_type": "code",
      "execution_count": 3,
      "id": "a94578ea",
      "metadata": {
        "colab": {
          "base_uri": "https://localhost:8080/"
        },
        "id": "a94578ea",
        "outputId": "b4e4faeb-72ef-43d9-99cb-ab60b2bc2d41"
      },
      "outputs": [
        {
          "output_type": "stream",
          "name": "stdout",
          "text": [
            "📦 Installing dependencies...\n",
            "\u001b[2K   \u001b[90m━━━━━━━━━━━━━━━━━━━━━━━━━━━━━━━━━━━━━━━━\u001b[0m \u001b[32m363.4/363.4 MB\u001b[0m \u001b[31m3.4 MB/s\u001b[0m eta \u001b[36m0:00:00\u001b[0m\n",
            "\u001b[2K   \u001b[90m━━━━━━━━━━━━━━━━━━━━━━━━━━━━━━━━━━━━━━━━\u001b[0m \u001b[32m13.8/13.8 MB\u001b[0m \u001b[31m123.9 MB/s\u001b[0m eta \u001b[36m0:00:00\u001b[0m\n",
            "\u001b[2K   \u001b[90m━━━━━━━━━━━━━━━━━━━━━━━━━━━━━━━━━━━━━━━━\u001b[0m \u001b[32m24.6/24.6 MB\u001b[0m \u001b[31m93.5 MB/s\u001b[0m eta \u001b[36m0:00:00\u001b[0m\n",
            "\u001b[2K   \u001b[90m━━━━━━━━━━━━━━━━━━━━━━━━━━━━━━━━━━━━━━━━\u001b[0m \u001b[32m883.7/883.7 kB\u001b[0m \u001b[31m53.5 MB/s\u001b[0m eta \u001b[36m0:00:00\u001b[0m\n",
            "\u001b[2K   \u001b[90m━━━━━━━━━━━━━━━━━━━━━━━━━━━━━━━━━━━━━━━━\u001b[0m \u001b[32m664.8/664.8 MB\u001b[0m \u001b[31m2.8 MB/s\u001b[0m eta \u001b[36m0:00:00\u001b[0m\n",
            "\u001b[2K   \u001b[90m━━━━━━━━━━━━━━━━━━━━━━━━━━━━━━━━━━━━━━━━\u001b[0m \u001b[32m211.5/211.5 MB\u001b[0m \u001b[31m5.3 MB/s\u001b[0m eta \u001b[36m0:00:00\u001b[0m\n",
            "\u001b[2K   \u001b[90m━━━━━━━━━━━━━━━━━━━━━━━━━━━━━━━━━━━━━━━━\u001b[0m \u001b[32m56.3/56.3 MB\u001b[0m \u001b[31m17.1 MB/s\u001b[0m eta \u001b[36m0:00:00\u001b[0m\n",
            "\u001b[2K   \u001b[90m━━━━━━━━━━━━━━━━━━━━━━━━━━━━━━━━━━━━━━━━\u001b[0m \u001b[32m127.9/127.9 MB\u001b[0m \u001b[31m7.5 MB/s\u001b[0m eta \u001b[36m0:00:00\u001b[0m\n",
            "\u001b[2K   \u001b[90m━━━━━━━━━━━━━━━━━━━━━━━━━━━━━━━━━━━━━━━━\u001b[0m \u001b[32m207.5/207.5 MB\u001b[0m \u001b[31m6.7 MB/s\u001b[0m eta \u001b[36m0:00:00\u001b[0m\n",
            "\u001b[2K   \u001b[90m━━━━━━━━━━━━━━━━━━━━━━━━━━━━━━━━━━━━━━━━\u001b[0m \u001b[32m21.1/21.1 MB\u001b[0m \u001b[31m107.0 MB/s\u001b[0m eta \u001b[36m0:00:00\u001b[0m\n",
            "\u001b[2K   \u001b[90m━━━━━━━━━━━━━━━━━━━━━━━━━━━━━━━━━━━━━━━━\u001b[0m \u001b[32m12.3/12.3 MB\u001b[0m \u001b[31m130.7 MB/s\u001b[0m eta \u001b[36m0:00:00\u001b[0m\n",
            "\u001b[2K   \u001b[90m━━━━━━━━━━━━━━━━━━━━━━━━━━━━━━━━━━━━━━━━\u001b[0m \u001b[32m69.1/69.1 kB\u001b[0m \u001b[31m7.1 MB/s\u001b[0m eta \u001b[36m0:00:00\u001b[0m\n",
            "\u001b[2K   \u001b[90m━━━━━━━━━━━━━━━━━━━━━━━━━━━━━━━━━━━━━━━━\u001b[0m \u001b[32m386.9/386.9 kB\u001b[0m \u001b[31m32.4 MB/s\u001b[0m eta \u001b[36m0:00:00\u001b[0m\n",
            "\u001b[2K   \u001b[90m━━━━━━━━━━━━━━━━━━━━━━━━━━━━━━━━━━━━━━━━\u001b[0m \u001b[32m133.5/133.5 kB\u001b[0m \u001b[31m14.4 MB/s\u001b[0m eta \u001b[36m0:00:00\u001b[0m\n",
            "\u001b[2K   \u001b[90m━━━━━━━━━━━━━━━━━━━━━━━━━━━━━━━━━━━━━━━━\u001b[0m \u001b[32m59.7/59.7 kB\u001b[0m \u001b[31m6.2 MB/s\u001b[0m eta \u001b[36m0:00:00\u001b[0m\n",
            "\u001b[2K   \u001b[90m━━━━━━━━━━━━━━━━━━━━━━━━━━━━━━━━━━━━━━━━\u001b[0m \u001b[32m1.6/1.6 MB\u001b[0m \u001b[31m86.4 MB/s\u001b[0m eta \u001b[36m0:00:00\u001b[0m\n",
            "\u001b[2K   \u001b[90m━━━━━━━━━━━━━━━━━━━━━━━━━━━━━━━━━━━━━━━━\u001b[0m \u001b[32m66.4/66.4 kB\u001b[0m \u001b[31m6.5 MB/s\u001b[0m eta \u001b[36m0:00:00\u001b[0m\n",
            "\u001b[?25h\n",
            "🔍 Environment Information:\n",
            "PyTorch: 2.6.0+cu124\n",
            "CUDA available: True\n",
            "GPU: Tesla T4\n",
            "GPU Memory: 15.8 GB\n",
            "✅ GPU is ready for training!\n"
          ]
        }
      ],
      "source": [
        "# Install dependencies\n",
        "print(\"📦 Installing dependencies...\")\n",
        "!pip install -q -r requirements.txt\n",
        "\n",
        "# Import required libraries and check GPU\n",
        "import torch\n",
        "import numpy as np\n",
        "import matplotlib.pyplot as plt\n",
        "import seaborn as sns\n",
        "from pathlib import Path\n",
        "import yaml\n",
        "\n",
        "print(\"\\n🔍 Environment Information:\")\n",
        "print(f\"PyTorch: {torch.__version__}\")\n",
        "print(f\"CUDA available: {torch.cuda.is_available()}\")\n",
        "\n",
        "if torch.cuda.is_available():\n",
        "    print(f\"GPU: {torch.cuda.get_device_name(0)}\")\n",
        "    print(f\"GPU Memory: {torch.cuda.get_device_properties(0).total_memory / 1e9:.1f} GB\")\n",
        "    device = torch.device('cuda')\n",
        "    print(\"✅ GPU is ready for training!\")\n",
        "else:\n",
        "    print(\"⚠️ GPU not detected. Using CPU (will be slower)\")\n",
        "    print(\"💡 Enable GPU: Runtime → Change runtime type → Hardware accelerator → GPU\")\n",
        "    device = torch.device('cpu')\n",
        "\n",
        "# Set plotting style\n",
        "plt.style.use('default')\n",
        "sns.set_palette(\"husl\")"
      ]
    },
    {
      "cell_type": "markdown",
      "id": "1703c883",
      "metadata": {
        "id": "1703c883"
      },
      "source": [
        "## 3. Data Preparation\n",
        "\n",
        "Extract and process the Penn Treebank dataset."
      ]
    },
    {
      "cell_type": "code",
      "execution_count": 4,
      "id": "dfeb3526",
      "metadata": {
        "colab": {
          "base_uri": "https://localhost:8080/"
        },
        "id": "dfeb3526",
        "outputId": "08308e47-2597-41e0-ed15-2b37e0472abe"
      },
      "outputs": [
        {
          "output_type": "stream",
          "name": "stdout",
          "text": [
            "✅ Penn Treebank data already processed\n",
            "   📄 ptb.train.txt: 5.4 MB\n",
            "   📄 ptb.valid.txt: 0.3 MB\n",
            "   📄 ptb.test.txt: 0.3 MB\n"
          ]
        }
      ],
      "source": [
        "import tarfile\n",
        "import subprocess\n",
        "import time\n",
        "import shutil\n",
        "from pathlib import Path\n",
        "\n",
        "# Check if data needs extraction\n",
        "data_dir = Path('data/ptb')\n",
        "archive_path = data_dir / 'LDC99T42_Penn_Treebank_3.tar.zst'\n",
        "processed_files = ['ptb.train.txt', 'ptb.valid.txt', 'ptb.test.txt']\n",
        "\n",
        "# Check if processed files exist\n",
        "all_processed_exist = all((data_dir / f).exists() for f in processed_files)\n",
        "\n",
        "if all_processed_exist:\n",
        "    print(\"✅ Penn Treebank data already processed\")\n",
        "    for f in processed_files:\n",
        "        file_path = data_dir / f\n",
        "        size_mb = file_path.stat().st_size / (1024 * 1024)\n",
        "        print(f\"   📄 {f}: {size_mb:.1f} MB\")\n",
        "else:\n",
        "    print(\"❗NO DATA...\")"
      ]
    },
    {
      "cell_type": "markdown",
      "id": "a56aae12",
      "metadata": {
        "id": "a56aae12"
      },
      "source": [
        "## 4. Data Exploration\n",
        "\n",
        "Let's explore the Penn Treebank dataset to understand its characteristics."
      ]
    },
    {
      "cell_type": "code",
      "execution_count": 5,
      "id": "532f76cd",
      "metadata": {
        "colab": {
          "base_uri": "https://localhost:8080/"
        },
        "id": "532f76cd",
        "outputId": "30c9afc6-0a6b-40e9-f551-824679b5b2ae"
      },
      "outputs": [
        {
          "output_type": "stream",
          "name": "stdout",
          "text": [
            "📊 TRAIN SET:\n",
            "   Tokens: 1,010,572\n",
            "   Vocabulary: 46,069\n",
            "   Sentences: 42,065\n",
            "   Avg sentence length: 24.0\n",
            "\n",
            "📊 VALID SET:\n",
            "   Tokens: 59,115\n",
            "   Vocabulary: 8,473\n",
            "   Sentences: 2,460\n",
            "   Avg sentence length: 24.0\n",
            "\n",
            "📊 TEST SET:\n",
            "   Tokens: 55,851\n",
            "   Vocabulary: 8,441\n",
            "   Sentences: 2,346\n",
            "   Avg sentence length: 23.8\n",
            "\n",
            "📋 DATASET SUMMARY:\n",
            "Split  Tokens  Vocabulary  Sentences  Avg Length\n",
            "Train 1010572       46069      42065        24.0\n",
            "Valid   59115        8473       2460        24.0\n",
            " Test   55851        8441       2346        23.8\n"
          ]
        }
      ],
      "source": [
        "# Load and analyze the datasets\n",
        "from collections import Counter\n",
        "import pandas as pd\n",
        "\n",
        "def load_and_analyze_data(file_path, name):\n",
        "    \"\"\"Load data and return basic statistics\"\"\"\n",
        "    with open(file_path, 'r') as f:\n",
        "        text = f.read()\n",
        "\n",
        "    words = text.split()\n",
        "    sentences = text.split('\\n')\n",
        "    sentences = [s.strip() for s in sentences if s.strip()]\n",
        "\n",
        "    return {\n",
        "        'name': name,\n",
        "        'total_tokens': len(words),\n",
        "        'unique_tokens': len(set(words)),\n",
        "        'sentences': len(sentences),\n",
        "        'avg_sentence_length': len(words) / len(sentences),\n",
        "        'vocabulary': Counter(words)\n",
        "    }\n",
        "\n",
        "# Analyze all splits\n",
        "data_stats = []\n",
        "splits = ['train', 'valid', 'test']\n",
        "\n",
        "for split in splits:\n",
        "    file_path = data_dir / f'ptb.{split}.txt'\n",
        "    if file_path.exists():\n",
        "        stats = load_and_analyze_data(file_path, split)\n",
        "        data_stats.append(stats)\n",
        "        print(f\"📊 {split.upper()} SET:\")\n",
        "        print(f\"   Tokens: {stats['total_tokens']:,}\")\n",
        "        print(f\"   Vocabulary: {stats['unique_tokens']:,}\")\n",
        "        print(f\"   Sentences: {stats['sentences']:,}\")\n",
        "        print(f\"   Avg sentence length: {stats['avg_sentence_length']:.1f}\")\n",
        "        print()\n",
        "\n",
        "# Create summary DataFrame\n",
        "summary_df = pd.DataFrame([\n",
        "    {\n",
        "        'Split': stats['name'].title(),\n",
        "        'Tokens': stats['total_tokens'],\n",
        "        'Vocabulary': stats['unique_tokens'],\n",
        "        'Sentences': stats['sentences'],\n",
        "        'Avg Length': round(stats['avg_sentence_length'], 1)\n",
        "    }\n",
        "    for stats in data_stats\n",
        "])\n",
        "\n",
        "print(\"📋 DATASET SUMMARY:\")\n",
        "print(summary_df.to_string(index=False))"
      ]
    },
    {
      "cell_type": "code",
      "execution_count": 6,
      "id": "0241210a",
      "metadata": {
        "colab": {
          "base_uri": "https://localhost:8080/",
          "height": 1000
        },
        "id": "0241210a",
        "outputId": "c0905c71-65f3-4c36-e78b-4e3910e2a25d"
      },
      "outputs": [
        {
          "output_type": "display_data",
          "data": {
            "text/plain": [
              "<Figure size 1500x1000 with 4 Axes>"
            ],
            "image/png": "[encoded data removed]"
          },
          "metadata": {}
        },
        {
          "output_type": "stream",
          "name": "stdout",
          "text": [
            "\n",
            "📈 Key Insights:\n",
            "• Training set has 1,010,572 tokens - largest portion for learning\n",
            "• Vocabulary overlap indicates good data consistency\n",
            "• Average sentence length of 23.9 words\n",
            "• High-frequency words (',', 'the') dominate the corpus\n"
          ]
        }
      ],
      "source": [
        "# Visualize dataset characteristics\n",
        "fig, axes = plt.subplots(2, 2, figsize=(15, 10))\n",
        "fig.suptitle('Penn Treebank Dataset Analysis', fontsize=16, fontweight='bold')\n",
        "\n",
        "# 1. Dataset sizes\n",
        "ax1 = axes[0, 0]\n",
        "splits = summary_df['Split']\n",
        "tokens = summary_df['Tokens']\n",
        "bars = ax1.bar(splits, tokens, color=['#1f77b4', '#ff7f0e', '#2ca02c'])\n",
        "ax1.set_title('Dataset Sizes (Tokens)')\n",
        "ax1.set_ylabel('Number of Tokens')\n",
        "for bar, value in zip(bars, tokens):\n",
        "    ax1.text(bar.get_x() + bar.get_width()/2, bar.get_height() + max(tokens)*0.01,\n",
        "             f'{value:,}', ha='center', va='bottom')\n",
        "\n",
        "# 2. Vocabulary distribution\n",
        "ax2 = axes[0, 1]\n",
        "vocab_sizes = summary_df['Vocabulary']\n",
        "bars = ax2.bar(splits, vocab_sizes, color=['#d62728', '#9467bd', '#8c564b'])\n",
        "ax2.set_title('Vocabulary Sizes')\n",
        "ax2.set_ylabel('Unique Tokens')\n",
        "for bar, value in zip(bars, vocab_sizes):\n",
        "    ax2.text(bar.get_x() + bar.get_width()/2, bar.get_height() + max(vocab_sizes)*0.01,\n",
        "             f'{value:,}', ha='center', va='bottom')\n",
        "\n",
        "# 3. Word frequency distribution (using train set)\n",
        "ax3 = axes[1, 0]\n",
        "train_vocab = data_stats[0]['vocabulary']\n",
        "freq_counts = Counter(train_vocab.values())\n",
        "frequencies = list(freq_counts.keys())[:20]  # Top 20 frequency bins\n",
        "counts = [freq_counts[f] for f in frequencies]\n",
        "\n",
        "ax3.bar(range(len(frequencies)), counts, color='#17becf')\n",
        "ax3.set_title('Word Frequency Distribution (Train)')\n",
        "ax3.set_xlabel('Word Frequency')\n",
        "ax3.set_ylabel('Number of Words')\n",
        "ax3.set_xticks(range(0, len(frequencies), 5))\n",
        "ax3.set_xticklabels([frequencies[i] for i in range(0, len(frequencies), 5)])\n",
        "\n",
        "# 4. Most common words\n",
        "ax4 = axes[1, 1]\n",
        "top_words = train_vocab.most_common(15)\n",
        "words, counts = zip(*top_words)\n",
        "bars = ax4.barh(range(len(words)), counts, color='#bcbd22')\n",
        "ax4.set_title('Most Common Words (Train)')\n",
        "ax4.set_xlabel('Frequency')\n",
        "ax4.set_yticks(range(len(words)))\n",
        "ax4.set_yticklabels(words)\n",
        "ax4.invert_yaxis()\n",
        "\n",
        "# Add frequency labels\n",
        "for bar, count in zip(bars, counts):\n",
        "    ax4.text(bar.get_width() + max(counts)*0.01, bar.get_y() + bar.get_height()/2,\n",
        "             f'{count:,}', ha='left', va='center')\n",
        "\n",
        "plt.tight_layout()\n",
        "plt.show()\n",
        "\n",
        "print(f\"\\n📈 Key Insights:\")\n",
        "print(f\"• Training set has {tokens[0]:,} tokens - largest portion for learning\")\n",
        "print(f\"• Vocabulary overlap indicates good data consistency\")\n",
        "print(f\"• Average sentence length of {summary_df['Avg Length'].mean():.1f} words\")\n",
        "print(f\"• High-frequency words ('{top_words[0][0]}', '{top_words[1][0]}') dominate the corpus\")"
      ]
    },
    {
      "cell_type": "markdown",
      "id": "13adab40",
      "metadata": {
        "id": "13adab40"
      },
      "source": [
        "## 5. Model Training\n",
        "\n",
        "Train the LSTM language model with optimized configurations."
      ]
    },
    {
      "cell_type": "code",
      "execution_count": 7,
      "id": "afdeabb8",
      "metadata": {
        "colab": {
          "base_uri": "https://localhost:8080/"
        },
        "id": "afdeabb8",
        "outputId": "81914487-fcfd-4a7e-90d2-c12fa93640ff"
      },
      "outputs": [
        {
          "output_type": "stream",
          "name": "stdout",
          "text": [
            "🎯 Unified Optimal Configuration\n",
            "==================================================\n",
            "Using one optimal configuration for all scenarios:\n",
            "\n",
            "🎯 OPTIMAL TRAINING\n",
            "   • Balanced model parameters to prevent overfitting/underfitting\n",
            "   • Proven configuration based on PTB best practices\n",
            "   • One config to rule them all approach\n",
            "   • Estimated training time: ~20-30 minutes\n",
            "\n",
            "⏭️ Or SKIP TRAINING to load a pre-trained model\n",
            "\n",
            "Train with optimal config? (y/n) or 's' to skip: s\n",
            "✅ Selected: Skip training - will load pre-trained model\n",
            "\n",
            "🔧 Configuration: skip\n",
            "📝 Config file: config/optimal_config.yaml\n"
          ]
        }
      ],
      "source": [
        "# Training Configuration Selection - Unified Optimal Config\n",
        "\n",
        "import os\n",
        "\n",
        "from IPython.display import display, HTML\n",
        "\n",
        "\n",
        "\n",
        "print(\"🎯 Unified Optimal Configuration\")\n",
        "\n",
        "print(\"=\" * 50)\n",
        "\n",
        "print(\"Using one optimal configuration for all scenarios:\")\n",
        "\n",
        "print(\"\")\n",
        "\n",
        "print(\"🎯 OPTIMAL TRAINING\")\n",
        "\n",
        "print(\"   • Balanced model parameters to prevent overfitting/underfitting\")\n",
        "\n",
        "print(\"   • Proven configuration based on PTB best practices\")\n",
        "\n",
        "print(\"   • One config to rule them all approach\")\n",
        "\n",
        "print(\"   • Estimated training time: ~20-30 minutes\")\n",
        "\n",
        "print(\"\")\n",
        "\n",
        "print(\"⏭️ Or SKIP TRAINING to load a pre-trained model\")\n",
        "\n",
        "print(\"\")\n",
        "\n",
        "\n",
        "\n",
        "# Get user choice\n",
        "\n",
        "while True:\n",
        "\n",
        "    choice = input(\"Train with optimal config? (y/n) or 's' to skip: \").strip().lower()\n",
        "\n",
        "\n",
        "\n",
        "    if choice in ['y', 'yes', '1', 'train']:\n",
        "\n",
        "        TRAINING_CONFIG = 'config/optimal_config.yaml'\n",
        "\n",
        "        TRAINING_MODE = 'optimal'\n",
        "\n",
        "        SKIP_TRAINING = False\n",
        "\n",
        "        print(\"✅ Selected: Optimal unified training configuration\")\n",
        "\n",
        "        break\n",
        "\n",
        "    elif choice in ['s', 'skip', '3']:\n",
        "\n",
        "        TRAINING_CONFIG = 'config/optimal_config.yaml'  # Still use optimal for structure\n",
        "\n",
        "        TRAINING_MODE = 'skip'\n",
        "\n",
        "        SKIP_TRAINING = True\n",
        "\n",
        "        print(\"✅ Selected: Skip training - will load pre-trained model\")\n",
        "\n",
        "        break\n",
        "\n",
        "    else:\n",
        "\n",
        "        print(\"❌ Invalid choice. Please enter 'y' to train or 's' to skip.\")\n",
        "\n",
        "\n",
        "\n",
        "print(f\"\\n🔧 Configuration: {TRAINING_MODE}\")\n",
        "\n",
        "print(f\"📝 Config file: {TRAINING_CONFIG}\")"
      ]
    },
    {
      "cell_type": "code",
      "execution_count": 8,
      "id": "df7f4a04",
      "metadata": {
        "colab": {
          "base_uri": "https://localhost:8080/"
        },
        "id": "df7f4a04",
        "outputId": "754529bb-9175-410a-dc43-ac3a97d246e2"
      },
      "outputs": [
        {
          "output_type": "stream",
          "name": "stdout",
          "text": [
            "📂 Google Drive Mount & Model Loading\n",
            "==================================================\n",
            "📱 Mounting Google Drive...\n",
            "Mounted at /content/drive\n",
            "✅ Google Drive mounted successfully!\n",
            "\n",
            "📁 Found 1 model file(s) in Google Drive:\n",
            "   1. best_model.pth (212.0 MB) - Proj-2-Penn Treebank (PTB)/checkpoints/best_model.pth\n",
            "\n",
            "Select model (1-1) or 'upload' to upload new: 1\n",
            "✅ Selected: best_model.pth\n",
            "📋 Copied to: checkpoints/best_model.pth\n"
          ]
        }
      ],
      "source": [
        "# Google Drive Mount & Pre-trained Model Loading (Optional)\n",
        "if SKIP_TRAINING:\n",
        "    print(\"📂 Google Drive Mount & Model Loading\")\n",
        "    print(\"=\" * 50)\n",
        "\n",
        "    # Mount Google Drive\n",
        "    try:\n",
        "        from google.colab import drive\n",
        "        print(\"📱 Mounting Google Drive...\")\n",
        "        drive.mount('/content/drive')\n",
        "        print(\"✅ Google Drive mounted successfully!\")\n",
        "\n",
        "        # List available models\n",
        "        import glob\n",
        "        gdrive_models = glob.glob('/content/drive/MyDrive/**/*.pth', recursive=True) + \\\n",
        "                       glob.glob('/content/drive/MyDrive/**/*.pt', recursive=True)\n",
        "\n",
        "        if gdrive_models:\n",
        "            print(f\"\\n📁 Found {len(gdrive_models)} model file(s) in Google Drive:\")\n",
        "            for i, model_path in enumerate(gdrive_models, 1):\n",
        "                model_name = os.path.basename(model_path)\n",
        "                model_size = os.path.getsize(model_path) / (1024 * 1024)  # MB\n",
        "                relative_path = model_path.replace('/content/drive/MyDrive/', '')\n",
        "                print(f\"   {i}. {model_name} ({model_size:.1f} MB) - {relative_path}\")\n",
        "\n",
        "            # Let user select model\n",
        "            while True:\n",
        "                try:\n",
        "                    model_choice = input(f\"\\nSelect model (1-{len(gdrive_models)}) or 'upload' to upload new: \").strip().lower()\n",
        "\n",
        "                    if model_choice == 'upload':\n",
        "                        print(\"📤 Upload a model file:\")\n",
        "                        from google.colab import files\n",
        "                        uploaded = files.upload()\n",
        "\n",
        "                        if uploaded:\n",
        "                            uploaded_file = list(uploaded.keys())[0]\n",
        "                            # Move to checkpoints directory\n",
        "                            os.makedirs('checkpoints', exist_ok=True)\n",
        "                            import shutil\n",
        "                            shutil.move(uploaded_file, f'checkpoints/{uploaded_file}')\n",
        "                            PRETRAINED_MODEL_PATH = f'checkpoints/{uploaded_file}'\n",
        "                            print(f\"✅ Model uploaded and saved: {PRETRAINED_MODEL_PATH}\")\n",
        "                            break\n",
        "                        else:\n",
        "                            print(\"❌ No file uploaded. Please try again.\")\n",
        "                    else:\n",
        "                        model_idx = int(model_choice) - 1\n",
        "                        if 0 <= model_idx < len(gdrive_models):\n",
        "                            PRETRAINED_MODEL_PATH = gdrive_models[model_idx]\n",
        "                            print(f\"✅ Selected: {os.path.basename(PRETRAINED_MODEL_PATH)}\")\n",
        "\n",
        "                            # Copy to local checkpoints for consistency\n",
        "                            os.makedirs('checkpoints', exist_ok=True)\n",
        "                            local_model_path = f'checkpoints/{os.path.basename(PRETRAINED_MODEL_PATH)}'\n",
        "                            import shutil\n",
        "                            shutil.copy2(PRETRAINED_MODEL_PATH, local_model_path)\n",
        "                            PRETRAINED_MODEL_PATH = local_model_path\n",
        "                            print(f\"📋 Copied to: {local_model_path}\")\n",
        "                            break\n",
        "                        else:\n",
        "                            print(f\"❌ Invalid choice. Please enter 1-{len(gdrive_models)} or 'upload'.\")\n",
        "                except ValueError:\n",
        "                    print(f\"❌ Invalid input. Please enter a number 1-{len(gdrive_models)} or 'upload'.\")\n",
        "        else:\n",
        "            print(\"\\n📤 No models found in Google Drive. Please upload a model:\")\n",
        "            from google.colab import files\n",
        "            uploaded = files.upload()\n",
        "\n",
        "            if uploaded:\n",
        "                uploaded_file = list(uploaded.keys())[0]\n",
        "                os.makedirs('checkpoints', exist_ok=True)\n",
        "                import shutil\n",
        "                shutil.move(uploaded_file, f'checkpoints/{uploaded_file}')\n",
        "                PRETRAINED_MODEL_PATH = f'checkpoints/{uploaded_file}'\n",
        "                print(f\"✅ Model uploaded and saved: {PRETRAINED_MODEL_PATH}\")\n",
        "            else:\n",
        "                print(\"❌ No model provided. Cannot proceed without a trained model.\")\n",
        "                PRETRAINED_MODEL_PATH = None\n",
        "\n",
        "    except ImportError:\n",
        "        print(\"⚠️ Google Colab not detected. Please upload model file manually:\")\n",
        "        PRETRAINED_MODEL_PATH = input(\"Enter path to your pre-trained model: \").strip()\n",
        "\n",
        "        if not os.path.exists(PRETRAINED_MODEL_PATH):\n",
        "            print(f\"❌ Model file not found: {PRETRAINED_MODEL_PATH}\")\n",
        "            PRETRAINED_MODEL_PATH = None\n",
        "else:\n",
        "    PRETRAINED_MODEL_PATH = None\n",
        "    print(\"⏭️ Skipping pre-trained model loading (training mode selected)\")"
      ]
    },
    {
      "cell_type": "code",
      "execution_count": 9,
      "id": "85abab33",
      "metadata": {
        "colab": {
          "base_uri": "https://localhost:8080/"
        },
        "id": "85abab33",
        "outputId": "521af54f-6b55-451c-a3fc-25c440ca6108"
      },
      "outputs": [
        {
          "output_type": "stream",
          "name": "stdout",
          "text": [
            "🔧 Configuration: SKIP\n",
            "==================================================\n",
            "📋 Config file: config/optimal_config.yaml\n",
            "\n",
            "🏗️ Model Architecture:\n",
            "• Model type: LSTM\n",
            "• Hidden size: 650\n",
            "• Layers: 2\n",
            "• Dropout: 0.5\n",
            "\n",
            "⚙️ Training Settings:\n",
            "• Batch size: 64\n",
            "• Learning rate: 0.001\n",
            "\n",
            "📊 Data Settings:\n",
            "• Sequence length: 35\n",
            "• Min frequency: 3\n"
          ]
        }
      ],
      "source": [
        "# Load and display selected configuration\n",
        "if not SKIP_TRAINING:\n",
        "    config_to_load = TRAINING_CONFIG\n",
        "else:\n",
        "    config_to_load = 'config/optimal_config.yaml'\n",
        "\n",
        "with open(config_to_load, 'r') as f:\n",
        "    config = yaml.safe_load(f)\n",
        "\n",
        "print(f\"🔧 Configuration: {TRAINING_MODE.upper()}\")\n",
        "print(\"=\" * 50)\n",
        "print(f\"📋 Config file: {config_to_load}\")\n",
        "print(f\"\\n🏗️ Model Architecture:\")\n",
        "print(f\"• Model type: {config['model']['type']}\")\n",
        "print(f\"• Hidden size: {config['model']['hidden_dim']}\")\n",
        "print(f\"• Layers: {config['model']['num_layers']}\")\n",
        "print(f\"• Dropout: {config['model']['dropout']}\")\n",
        "print(f\"\\n⚙️ Training Settings:\")\n",
        "print(f\"• Batch size: {config['training']['batch_size']}\")\n",
        "print(f\"• Learning rate: {config['training']['learning_rate']}\")\n",
        "if not SKIP_TRAINING:\n",
        "    print(f\"• Max epochs: {config['training']['max_epochs']}\")\n",
        "    print(f\"• Gradient clip: {config['training']['gradient_clip']}\")\n",
        "\n",
        "print(f\"\\n📊 Data Settings:\")\n",
        "print(f\"• Sequence length: {config['training']['sequence_length']}\")\n",
        "print(f\"• Min frequency: {config['data']['min_freq']}\")"
      ]
    },
    {
      "cell_type": "code",
      "execution_count": 10,
      "id": "91836e0d",
      "metadata": {
        "colab": {
          "base_uri": "https://localhost:8080/"
        },
        "id": "91836e0d",
        "outputId": "86c45bf8-72fa-4012-e093-b27fe07ea882"
      },
      "outputs": [
        {
          "output_type": "stream",
          "name": "stdout",
          "text": [
            "⏭️ Skipping training - using pre-trained model\n",
            "✅ Using pre-trained model: best_model.pth\n",
            "📊 Model trained for 0 epochs\n",
            "📉 Final loss: 5.4247\n",
            "\n",
            "🎯 Ready for evaluation and text generation!\n"
          ]
        }
      ],
      "source": [
        "import time\n",
        "import os\n",
        "import torch\n",
        "\n",
        "# Model Training Execution\n",
        "if not SKIP_TRAINING:\n",
        "    print(f\"🚀 Starting {TRAINING_MODE.upper()} Training\")\n",
        "    print(\"=\" * 50)\n",
        "\n",
        "    # Create checkpoints directory\n",
        "    os.makedirs('checkpoints', exist_ok=True)\n",
        "\n",
        "    # Display training info\n",
        "    print(f\"📋 Using config: {TRAINING_CONFIG}\")\n",
        "    print(f\"🎯 Mode: {TRAINING_MODE}\")\n",
        "\n",
        "    if TRAINING_MODE == 'quick':\n",
        "        print(\"⚡ Quick training mode - faster but lower performance\")\n",
        "        print(\"🕒 Estimated time: 5-10 minutes\")\n",
        "    else:\n",
        "        print(\"🏆 Full training mode - better performance but takes longer\")\n",
        "        print(\"🕰️ Estimated time: 30-60 minutes\")\n",
        "\n",
        "    print(\"\\n🏁 Starting training...\")\n",
        "\n",
        "    start_time = time.time()\n",
        "\n",
        "    # Execute training with selected configuration\n",
        "    !python src/train.py --config {TRAINING_CONFIG} --device cuda\n",
        "\n",
        "    end_time = time.time()\n",
        "    duration = end_time - start_time\n",
        "\n",
        "    # Check if training completed successfully\n",
        "    checkpoint_files = []\n",
        "    if os.path.exists('checkpoints'):\n",
        "        checkpoint_files = [f for f in os.listdir('checkpoints') if f.endswith(('.pth', '.pt'))]\n",
        "\n",
        "    if checkpoint_files:\n",
        "        latest_checkpoint = max([os.path.join('checkpoints', f) for f in checkpoint_files],\n",
        "                               key=os.path.getctime)\n",
        "        MODEL_PATH = latest_checkpoint\n",
        "        print(f\"\\n✅ Training completed successfully!\")\n",
        "        print(f\"⏱️ Duration: {duration:.1f} seconds ({duration/60:.1f} minutes)\")\n",
        "        print(f\"📁 Model saved: {os.path.basename(MODEL_PATH)}\")\n",
        "        print(f\"📊 TensorBoard logs: runs/\")\n",
        "    else:\n",
        "        print(f\"\\n❌ Training failed - no model checkpoints found\")\n",
        "        MODEL_PATH = None\n",
        "\n",
        "else:\n",
        "    print(\"⏭️ Skipping training - using pre-trained model\")\n",
        "    MODEL_PATH = PRETRAINED_MODEL_PATH\n",
        "    if MODEL_PATH and os.path.exists(MODEL_PATH):\n",
        "        print(f\"✅ Using pre-trained model: {os.path.basename(MODEL_PATH)}\")\n",
        "\n",
        "        # Display model info\n",
        "        checkpoint_info = torch.load(MODEL_PATH, map_location='cpu')\n",
        "        if 'epoch' in checkpoint_info:\n",
        "            print(f\"📊 Model trained for {checkpoint_info['epoch']} epochs\")\n",
        "        if 'loss' in checkpoint_info:\n",
        "            print(f\"📉 Final loss: {checkpoint_info['loss']:.4f}\")\n",
        "    else:\n",
        "        print(\"❌ No valid pre-trained model available\")\n",
        "        MODEL_PATH = None\n",
        "\n",
        "print(f\"\\n🎯 Ready for evaluation and text generation!\")"
      ]
    },
    {
      "cell_type": "markdown",
      "id": "134598a6",
      "metadata": {
        "id": "134598a6"
      },
      "source": [
        "## 6. Training Monitoring\n",
        "\n",
        "Launch TensorBoard to visualize training progress."
      ]
    },
    {
      "cell_type": "code",
      "execution_count": null,
      "id": "694f73eb",
      "metadata": {
        "id": "694f73eb"
      },
      "outputs": [],
      "source": [
        "# Launch TensorBoard\n",
        "%load_ext tensorboard\n",
        "%tensorboard --logdir runs --host 0.0.0.0\n",
        "\n",
        "print(\"📊 TensorBoard launched above ☝️\")\n",
        "print(\"Monitor training/validation loss and perplexity in real-time\")"
      ]
    },
    {
      "cell_type": "markdown",
      "id": "370367ac",
      "metadata": {
        "id": "370367ac"
      },
      "source": [
        "## 7. Model Evaluation\n",
        "\n",
        "Evaluate the trained model on the test set."
      ]
    },
    {
      "cell_type": "code",
      "execution_count": 11,
      "id": "66feb3e1",
      "metadata": {
        "colab": {
          "base_uri": "https://localhost:8080/"
        },
        "id": "66feb3e1",
        "outputId": "953a19ba-bb6b-4e0c-9c5a-0656edbfa7c5"
      },
      "outputs": [
        {
          "output_type": "stream",
          "name": "stdout",
          "text": [
            "🧮 Model Evaluation\n",
            "==================================================\n",
            "📁 Using model: best_model.pth\n",
            "📋 Using config: config/config_colab_full.yaml\n",
            "\n",
            "🔍 Evaluating model on test set...\n",
            "2025-06-03 06:50:34.367147: E external/local_xla/xla/stream_executor/cuda/cuda_fft.cc:477] Unable to register cuFFT factory: Attempting to register factory for plugin cuFFT when one has already been registered\n",
            "WARNING: All log messages before absl::InitializeLog() is called are written to STDERR\n",
            "E0000 00:00:1748933434.628444    2756 cuda_dnn.cc:8310] Unable to register cuDNN factory: Attempting to register factory for plugin cuDNN when one has already been registered\n",
            "E0000 00:00:1748933434.697051    2756 cuda_blas.cc:1418] Unable to register cuBLAS factory: Attempting to register factory for plugin cuBLAS when one has already been registered\n",
            "2025-06-03 06:50:35.228413: I tensorflow/core/platform/cpu_feature_guard.cc:210] This TensorFlow binary is optimized to use available CPU instructions in performance-critical operations.\n",
            "To enable the following instructions: AVX2 AVX512F FMA, in other operations, rebuild TensorFlow with the appropriate compiler flags.\n",
            "Using device: cuda\n",
            "Loading data...\n",
            "Loading existing vocabulary from data/ptb/vocab.pkl\n",
            "Vocabulary size: 18059\n",
            "Train batches: 15789\n",
            "Valid batches: 923\n",
            "Test batches: 872\n",
            "Creating model...\n",
            "Loading model from checkpoints/best_model.pth...\n",
            "Checkpoint loaded: checkpoints/best_model.pth\n",
            "\\nEvaluating model...\n",
            "==================================================\n",
            "Evaluating: 100% 15789/15789 [08:27<00:00, 31.08it/s]\n",
            "Train - Loss: 5.5173, Perplexity: 248.97, Accuracy: 0.1862\n",
            "Evaluating: 100% 923/923 [00:30<00:00, 30.62it/s]\n",
            "Valid - Loss: 5.4247, Perplexity: 226.94, Accuracy: 0.1896\n",
            "Evaluating: 100% 872/872 [00:28<00:00, 30.58it/s]\n",
            "Test  - Loss: 5.4434, Perplexity: 231.23, Accuracy: 0.1862\n",
            "\\nEvaluation completed!\n",
            "\n",
            "✅ Evaluation completed!\n"
          ]
        }
      ],
      "source": [
        "import glob\n",
        "import os\n",
        "\n",
        "# Model Evaluation\n",
        "print(\"🧮 Model Evaluation\")\n",
        "print(\"=\" * 50)\n",
        "\n",
        "if MODEL_PATH and os.path.exists(MODEL_PATH):\n",
        "    print(f\"📁 Using model: {os.path.basename(MODEL_PATH)}\")\n",
        "\n",
        "    # Determine config file to use\n",
        "    if SKIP_TRAINING:\n",
        "        eval_config = 'config/config_colab_full.yaml'  # Default for structure\n",
        "    else:\n",
        "        eval_config = TRAINING_CONFIG\n",
        "\n",
        "    print(f\"📋 Using config: {eval_config}\")\n",
        "    print(\"\\n🔍 Evaluating model on test set...\")\n",
        "\n",
        "    # Run evaluation\n",
        "    !python src/evaluate.py --model_path {MODEL_PATH} --config {eval_config} --device cuda\n",
        "\n",
        "    print(\"\\n✅ Evaluation completed!\")\n",
        "\n",
        "else:\n",
        "    print(\"❌ No trained model found. Please:\")\n",
        "    if SKIP_TRAINING:\n",
        "        print(\"   • Ensure you loaded a valid pre-trained model\")\n",
        "        print(\"   • Re-run the model loading cell if needed\")\n",
        "    else:\n",
        "        print(\"   • Complete training first\")\n",
        "        print(\"   • Check if training completed successfully\")\n",
        "\n",
        "# Set checkpoint files for other cells\n",
        "if MODEL_PATH:\n",
        "    checkpoint_files = [MODEL_PATH]\n",
        "    latest_checkpoint = MODEL_PATH\n",
        "else:\n",
        "    checkpoint_files = []\n",
        "    latest_checkpoint = None"
      ]
    },
    {
      "cell_type": "markdown",
      "id": "90575fb7",
      "metadata": {
        "id": "90575fb7"
      },
      "source": [
        "## 8. Interactive Text Generation\n",
        "\n",
        "Now let's have some fun! Generate text interactively with custom seed words."
      ]
    },
    {
      "cell_type": "code",
      "execution_count": 12,
      "id": "f3b35caa",
      "metadata": {
        "colab": {
          "base_uri": "https://localhost:8080/"
        },
        "id": "f3b35caa",
        "outputId": "1c62cd2b-c37c-4273-944e-1307854b32e0"
      },
      "outputs": [
        {
          "output_type": "stream",
          "name": "stdout",
          "text": [
            "📖 Loading vocabulary using data_loader...\n",
            "📖 Vocabulary loaded: 18059 words\n",
            "🔄 Loading model: best_model.pth\n",
            "🔍 Model vocabulary size: 18059\n",
            "🔍 Loaded vocabulary size: 18059\n",
            "📋 Using config: config/optimal_config.yaml\n",
            "Checkpoint loaded: checkpoints/best_model.pth\n",
            "✅ Model loaded and ready for text generation!\n",
            "🎨 Text Generation Examples:\n",
            "==================================================\n",
            "1️⃣ Conservative (temperature=0.7):\n",
            "\n",
            "🎯 Generating text...\n",
            "Seed: 'the economy' | Length: 40 | Temperature: 0.7\n",
            "------------------------------------------------------------\n",
            "📝 Generated text:\n",
            "the economy of the investment of the stock market was <unk> in a four weeks <eos>\n",
            "\n",
            "2️⃣ Balanced (temperature=1.0):\n",
            "\n",
            "🎯 Generating text...\n",
            "Seed: 'financial markets' | Length: 40 | Temperature: 1.0\n",
            "------------------------------------------------------------\n",
            "📝 Generated text:\n",
            "financial markets were Europeans , well stadium , he said the securities first strategies -- an spokesman Arizona Ross <eos>\n",
            "\n",
            "3️⃣ Creative (temperature=1.3):\n",
            "\n",
            "🎯 Generating text...\n",
            "Seed: 'investors' | Length: 40 | Temperature: 1.3\n",
            "------------------------------------------------------------\n",
            "📝 Generated text:\n",
            "investors Acquisition wearing Shearson roadways Due <eos>\n"
          ]
        }
      ],
      "source": [
        "# Set up interactive text generation\n",
        "import sys\n",
        "sys.path.append('src')\n",
        "\n",
        "from model import create_model\n",
        "from data_loader import Vocabulary, load_ptb_data\n",
        "from utils import load_checkpoint, generate_text\n",
        "import pickle\n",
        "import os\n",
        "\n",
        "# Load vocabulary using the proper data_loader approach\n",
        "print(\"📖 Loading vocabulary using data_loader...\")\n",
        "vocab = Vocabulary()\n",
        "vocab_file = 'data/ptb/vocab.pkl'\n",
        "\n",
        "if os.path.exists(vocab_file):\n",
        "    vocab.load(vocab_file)\n",
        "    print(f\"📖 Vocabulary loaded: {len(vocab)} words\")\n",
        "else:\n",
        "    print(\"❌ Vocabulary file not found. Please ensure training completed successfully.\")\n",
        "    vocab = None\n",
        "\n",
        "# Load model\n",
        "if MODEL_PATH and os.path.exists(MODEL_PATH) and vocab is not None:\n",
        "    print(f\"🔄 Loading model: {os.path.basename(MODEL_PATH)}\")\n",
        "\n",
        "    # Detect the correct config from the model checkpoint\n",
        "    checkpoint_info = torch.load(MODEL_PATH, map_location='cpu')\n",
        "\n",
        "    # Check embedding dimension to determine which config was used\n",
        "    if 'model_state_dict' in checkpoint_info:\n",
        "        embedding_dim = checkpoint_info['model_state_dict']['embedding.weight'].shape[1]\n",
        "        vocab_size_from_model = checkpoint_info['model_state_dict']['embedding.weight'].shape[0]\n",
        "\n",
        "        print(f\"🔍 Model vocabulary size: {vocab_size_from_model}\")\n",
        "        print(f\"🔍 Loaded vocabulary size: {len(vocab)}\")\n",
        "\n",
        "        if vocab_size_from_model != len(vocab):\n",
        "            print(f\"⚠️ Vocabulary size mismatch!\")\n",
        "            print(f\"   Model expects: {vocab_size_from_model}\")\n",
        "            print(f\"   Current vocab: {len(vocab)}\")\n",
        "            print(\"   This may cause loading issues.\")\n",
        "\n",
        "        config_file = 'config/optimal_config.yaml'\n",
        "    else:\n",
        "        # Fallback to training config if available\n",
        "        if SKIP_TRAINING:\n",
        "            config_file = 'config/optimal_config.yaml'\n",
        "        else:\n",
        "            config_file = TRAINING_CONFIG\n",
        "\n",
        "    print(f\"📋 Using config: {config_file}\")\n",
        "\n",
        "    with open(config_file, 'r') as f:\n",
        "        config = yaml.safe_load(f)\n",
        "\n",
        "    model = create_model(config, len(vocab))\n",
        "    model = model.to(device)\n",
        "\n",
        "    # Load trained weights\n",
        "    model, _, _, _ = load_checkpoint(MODEL_PATH, model)\n",
        "    model.eval()\n",
        "\n",
        "    print(\"✅ Model loaded and ready for text generation!\")\n",
        "\n",
        "    def interactive_generate(seed_text=\"the\", max_length=50, temperature=1.0):\n",
        "        \"\"\"Generate text with custom parameters\"\"\"\n",
        "        print(f\"\\n🎯 Generating text...\")\n",
        "        print(f\"Seed: '{seed_text}' | Length: {max_length} | Temperature: {temperature}\")\n",
        "        print(\"-\" * 60)\n",
        "\n",
        "        try:\n",
        "            generated = generate_text(\n",
        "                model=model,\n",
        "                vocab=vocab,\n",
        "                seed_text=seed_text,\n",
        "                max_length=max_length,\n",
        "                temperature=temperature,\n",
        "                device=device\n",
        "            )\n",
        "\n",
        "            print(f\"📝 Generated text:\\n{generated}\")\n",
        "            return generated\n",
        "        except Exception as e:\n",
        "            print(f\"❌ Generation failed: {e}\")\n",
        "            return None\n",
        "\n",
        "    # Demonstrate different generation styles\n",
        "    print(\"🎨 Text Generation Examples:\")\n",
        "    print(\"=\" * 50)\n",
        "\n",
        "    # Conservative generation (low temperature)\n",
        "    print(\"1️⃣ Conservative (temperature=0.7):\")\n",
        "    interactive_generate(\"the economy\", max_length=40, temperature=0.7)\n",
        "\n",
        "    # Balanced generation\n",
        "    print(\"\\n2️⃣ Balanced (temperature=1.0):\")\n",
        "    interactive_generate(\"financial markets\", max_length=40, temperature=1.0)\n",
        "\n",
        "    # Creative generation (high temperature)\n",
        "    print(\"\\n3️⃣ Creative (temperature=1.3):\")\n",
        "    interactive_generate(\"investors\", max_length=40, temperature=1.3)\n",
        "\n",
        "else:\n",
        "    print(\"❌ No trained model available.\")\n",
        "    if SKIP_TRAINING:\n",
        "        print(\"   • Please load a pre-trained model first\")\n",
        "        print(\"   • Re-run the model loading cell\")\n",
        "    else:\n",
        "        print(\"   • Please complete training first\")\n",
        "        print(\"   • Check if training completed successfully\")\n",
        "\n",
        "    # Create dummy function for error handling\n",
        "    def interactive_generate(seed_text=\"the\", max_length=50, temperature=1.0):\n",
        "        print(\"❌ No model available for text generation\")\n",
        "        return None"
      ]
    },
    {
      "cell_type": "code",
      "execution_count": 13,
      "id": "f36b0e80",
      "metadata": {
        "colab": {
          "base_uri": "https://localhost:8080/"
        },
        "id": "f36b0e80",
        "outputId": "8ddda4dd-ace6-404c-ec30-061ec1ef80ca"
      },
      "outputs": [
        {
          "output_type": "stream",
          "name": "stdout",
          "text": [
            "🎮 Interactive Text Generation\n",
            "========================================\n",
            "Customize your text generation below:\n",
            "\n",
            "💡 Instructions:\n",
            "• Call generate_custom_text() to start interactive generation\n",
            "• Or use interactive_generate('your seed', length, temperature) directly\n",
            "• Examples:\n",
            "  - interactive_generate('the stock market', 50, 1.0)\n",
            "  - interactive_generate('investors', 30, 0.8)\n",
            "\n",
            "🎯 Model ready: best_model.pth\n",
            "Ready for text generation! 🚀\n",
            "\n",
            "💡 Tips for text generation:\n",
            "• Lower temperature (0.5-0.8): More predictable, grammatical text\n",
            "• Higher temperature (1.2-2.0): More creative, diverse text\n",
            "• Seed text: Use Penn Treebank vocabulary for best results\n",
            "• Common seeds: 'the', 'market', 'company', 'economic', 'financial'\n",
            "\n",
            "👇 Run the cell below to start interactive generation!\n"
          ]
        }
      ],
      "source": [
        "# Interactive text generation widget\n",
        "print(\"🎮 Interactive Text Generation\")\n",
        "print(\"=\" * 40)\n",
        "\n",
        "if MODEL_PATH and os.path.exists(MODEL_PATH):\n",
        "    print(\"Customize your text generation below:\")\n",
        "\n",
        "    # Simple interactive interface\n",
        "    def generate_custom_text():\n",
        "        \"\"\"Interactive text generation function\"\"\"\n",
        "\n",
        "        print(\"\\n📝 Enter your parameters:\")\n",
        "\n",
        "        # Get user inputs\n",
        "        seed_text = input(\"Seed text (e.g., 'the market'): \").strip() or \"the\"\n",
        "\n",
        "        try:\n",
        "            max_length = int(input(\"Maximum length (10-100): \") or \"30\")\n",
        "            max_length = max(10, min(100, max_length))  # Clamp between 10-100\n",
        "        except ValueError:\n",
        "            max_length = 30\n",
        "            print(f\"Using default length: {max_length}\")\n",
        "\n",
        "        try:\n",
        "            temperature = float(input(\"Temperature (0.5-2.0, higher=more creative): \") or \"1.0\")\n",
        "            temperature = max(0.1, min(2.0, temperature))  # Clamp between 0.1-2.0\n",
        "        except ValueError:\n",
        "            temperature = 1.0\n",
        "            print(f\"Using default temperature: {temperature}\")\n",
        "\n",
        "        # Generate text\n",
        "        generated = interactive_generate(seed_text, max_length, temperature)\n",
        "\n",
        "        if generated:\n",
        "            print(f\"\\n✨ Want to try again? Call generate_custom_text() or try different parameters!\")\n",
        "\n",
        "        return generated\n",
        "\n",
        "    # Instructions for use\n",
        "    print(\"\\n💡 Instructions:\")\n",
        "    print(\"• Call generate_custom_text() to start interactive generation\")\n",
        "    print(\"• Or use interactive_generate('your seed', length, temperature) directly\")\n",
        "    print(\"• Examples:\")\n",
        "    print(\"  - interactive_generate('the stock market', 50, 1.0)\")\n",
        "    print(\"  - interactive_generate('investors', 30, 0.8)\")\n",
        "\n",
        "    # Ready message\n",
        "    print(f\"\\n🎯 Model ready: {os.path.basename(MODEL_PATH)}\")\n",
        "    print(\"Ready for text generation! 🚀\")\n",
        "\n",
        "else:\n",
        "    print(\"❌ No model available for interactive generation.\")\n",
        "    if SKIP_TRAINING:\n",
        "        print(\"   • Please load a pre-trained model first\")\n",
        "    else:\n",
        "        print(\"   • Please complete training first\")\n",
        "\n",
        "    def generate_custom_text():\n",
        "        print(\"❌ No model available. Please load a model first.\")\n",
        "        return None\n",
        "\n",
        "# Instructions for users\n",
        "print(\"\\n💡 Tips for text generation:\")\n",
        "print(\"• Lower temperature (0.5-0.8): More predictable, grammatical text\")\n",
        "print(\"• Higher temperature (1.2-2.0): More creative, diverse text\")\n",
        "print(\"• Seed text: Use Penn Treebank vocabulary for best results\")\n",
        "print(\"• Common seeds: 'the', 'market', 'company', 'economic', 'financial'\")\n",
        "\n",
        "print(\"\\n👇 Run the cell below to start interactive generation!\")"
      ]
    },
    {
      "cell_type": "code",
      "execution_count": 14,
      "id": "f7915f44",
      "metadata": {
        "colab": {
          "base_uri": "https://localhost:8080/",
          "height": 261
        },
        "id": "f7915f44",
        "outputId": "435d9458-d97f-4cc5-f675-4c56ee7d1bcf"
      },
      "outputs": [
        {
          "output_type": "stream",
          "name": "stdout",
          "text": [
            "\n",
            "📝 Enter your parameters:\n",
            "Seed text (e.g., 'the market'): the government\n",
            "Maximum length (10-100): 50\n",
            "Temperature (0.5-2.0, higher=more creative): 1\n",
            "\n",
            "🎯 Generating text...\n",
            "Seed: 'the government' | Length: 50 | Temperature: 1.0\n",
            "------------------------------------------------------------\n",
            "📝 Generated text:\n",
            "the government lowest team into an court <eos>\n",
            "\n",
            "✨ Want to try again? Call generate_custom_text() or try different parameters!\n"
          ]
        },
        {
          "output_type": "execute_result",
          "data": {
            "text/plain": [
              "'the government lowest team into an court <eos>'"
            ],
            "application/vnd.google.colaboratory.intrinsic+json": {
              "type": "string"
            }
          },
          "metadata": {},
          "execution_count": 14
        }
      ],
      "source": [
        "# Run interactive generation\n",
        "generate_custom_text()"
      ]
    },
    {
      "cell_type": "code",
      "execution_count": 15,
      "id": "gIUJ7qajuPkW",
      "metadata": {
        "colab": {
          "base_uri": "https://localhost:8080/"
        },
        "id": "gIUJ7qajuPkW",
        "outputId": "39a296f7-a59c-4cba-87f7-9c747b157ecc"
      },
      "outputs": [
        {
          "output_type": "stream",
          "name": "stdout",
          "text": [
            "🔝 Most common words in Penn Treebank:\n",
            " 1. <pad>\n",
            " 2. <unk>\n",
            " 3. <eos>\n",
            " 4. In\n",
            " 5. an\n",
            " 6. Oct.\n",
            " 7. 19\n",
            " 8. review\n",
            " 9. of\n",
            "10. The\n",
            "11. Misanthrope\n",
            "12. at\n",
            "13. Chicago\n",
            "14. 's\n",
            "15. Goodman\n",
            "16. Theatre\n",
            "17. (\n",
            "18. Take\n",
            "19. the\n",
            "20. Stage\n"
          ]
        }
      ],
      "source": [
        "# Show most common words in vocabulary\n",
        "print(\"🔝 Most common words in Penn Treebank:\")\n",
        "# Get first 20 most frequent words\n",
        "sample_words = list(vocab.word2idx.keys())[:20]\n",
        "for i, word in enumerate(sample_words, 1):\n",
        "    print(f\"{i:2d}. {word}\")"
      ]
    },
    {
      "cell_type": "markdown",
      "id": "e11a53b0",
      "metadata": {
        "id": "e11a53b0"
      },
      "source": [
        "## 9. Results and Conclusion\n",
        "\n",
        "Summary of training results and model performance."
      ]
    },
    {
      "cell_type": "code",
      "execution_count": 16,
      "id": "06a5be77",
      "metadata": {
        "id": "06a5be77",
        "outputId": "e7dfc8b4-6c74-4347-cb09-c9898c3039b1",
        "colab": {
          "base_uri": "https://localhost:8080/"
        }
      },
      "outputs": [
        {
          "output_type": "stream",
          "name": "stdout",
          "text": [
            "📊 Training Summary\n",
            "==================================================\n",
            "✅ Model trained successfully!\n",
            "📁 Best model: best_model.pth\n",
            "🔢 Final epoch: 0\n",
            "📉 Final loss: 5.4247\n",
            "\n",
            "🏗️ Model Architecture:\n",
            "• Total parameters: 18,526,809\n",
            "• Trainable parameters: 18,526,809\n",
            "• Model size: ~70.7 MB\n",
            "\n",
            "🎯 Key Results:\n",
            "• Successfully trained LSTM language model\n",
            "• Model can generate coherent text sequences\n",
            "• Interactive generation with customizable parameters\n",
            "• Ready for deployment or further fine-tuning\n",
            "\n",
            "📁 Generated Files:\n",
            "• Checkpoints: 1 files\n",
            "\n",
            "🎉 Training and evaluation completed!\n",
            "You can now experiment with different seed texts and parameters.\n"
          ]
        }
      ],
      "source": [
        "# Summarize results\n",
        "print(\"📊 Training Summary\")\n",
        "print(\"=\" * 50)\n",
        "\n",
        "if checkpoint_files:\n",
        "    # Get checkpoint info\n",
        "    checkpoint_info = torch.load(latest_checkpoint, map_location='cpu')\n",
        "\n",
        "    print(f\"✅ Model trained successfully!\")\n",
        "    print(f\"📁 Best model: {os.path.basename(latest_checkpoint)}\")\n",
        "    print(f\"🔢 Final epoch: {checkpoint_info.get('epoch', 'Unknown')}\")\n",
        "    print(f\"📉 Final loss: {checkpoint_info.get('loss', 'Unknown'):.4f}\")\n",
        "\n",
        "    # Model architecture summary\n",
        "    total_params = sum(p.numel() for p in model.parameters())\n",
        "    trainable_params = sum(p.numel() for p in model.parameters() if p.requires_grad)\n",
        "\n",
        "    print(f\"\\n🏗️ Model Architecture:\")\n",
        "    print(f\"• Total parameters: {total_params:,}\")\n",
        "    print(f\"• Trainable parameters: {trainable_params:,}\")\n",
        "    print(f\"• Model size: ~{total_params * 4 / 1024 / 1024:.1f} MB\")\n",
        "\n",
        "    print(f\"\\n🎯 Key Results:\")\n",
        "    print(f\"• Successfully trained LSTM language model\")\n",
        "    print(f\"• Model can generate coherent text sequences\")\n",
        "    print(f\"• Interactive generation with customizable parameters\")\n",
        "    print(f\"• Ready for deployment or further fine-tuning\")\n",
        "\n",
        "else:\n",
        "    print(\"⚠️ No trained model found.\")\n",
        "\n",
        "print(f\"\\n📁 Generated Files:\")\n",
        "if os.path.exists('checkpoints') and os.listdir('checkpoints'):\n",
        "    print(f\"• Checkpoints: {len(os.listdir('checkpoints'))} files\")\n",
        "if os.path.exists('runs') and os.listdir('runs'):\n",
        "    print(f\"• TensorBoard logs: Available in runs/\")\n",
        "\n",
        "print(f\"\\n🎉 Training and evaluation completed!\")\n",
        "print(f\"You can now experiment with different seed texts and parameters.\")"
      ]
    },
    {
      "cell_type": "markdown",
      "id": "f282905c",
      "metadata": {
        "id": "f282905c"
      },
      "source": [
        "## 10. Download Results (Optional)\n",
        "\n",
        "Package and download your training results for later use."
      ]
    },
    {
      "cell_type": "code",
      "execution_count": null,
      "id": "e8107ea0",
      "metadata": {
        "id": "e8107ea0"
      },
      "outputs": [],
      "source": [
        "import zipfile\n",
        "from google.colab import files\n",
        "\n",
        "def package_results():\n",
        "    \"\"\"Package all generated files for download\"\"\"\n",
        "\n",
        "    print(\"📦 Packaging results...\")\n",
        "\n",
        "    items_to_include = []\n",
        "\n",
        "    # Check what we have\n",
        "    if os.path.exists('checkpoints') and os.listdir('checkpoints'):\n",
        "        checkpoint_count = len([f for f in os.listdir('checkpoints') if f.endswith(('.pth', '.pt'))])\n",
        "        if checkpoint_count > 0:\n",
        "            items_to_include.append(('checkpoints', f'Model checkpoints ({checkpoint_count} files)'))\n",
        "\n",
        "    if os.path.exists('runs') and os.listdir('runs'):\n",
        "        items_to_include.append(('runs', 'TensorBoard logs'))\n",
        "\n",
        "    # Include vocabulary and config files\n",
        "    if os.path.exists('data/ptb/vocab.pkl'):\n",
        "        items_to_include.append(('data/ptb/vocab.pkl', 'Vocabulary file'))\n",
        "\n",
        "    # Include relevant config file\n",
        "    if not SKIP_TRAINING and TRAINING_CONFIG and os.path.exists(TRAINING_CONFIG):\n",
        "        items_to_include.append((TRAINING_CONFIG, 'Training configuration'))\n",
        "\n",
        "    if not items_to_include:\n",
        "        print(\"⚠️ No results to package.\")\n",
        "        if SKIP_TRAINING:\n",
        "            print(\"   • Pre-trained model mode - no training artifacts to package\")\n",
        "        else:\n",
        "            print(\"   • Run training first to generate results\")\n",
        "        return None\n",
        "\n",
        "    # Create results archive\n",
        "    zip_filename = f'penn_treebank_results_{TRAINING_MODE}.zip'\n",
        "\n",
        "    with zipfile.ZipFile(zip_filename, 'w', zipfile.ZIP_DEFLATED) as zipf:\n",
        "        for item_path, description in items_to_include:\n",
        "            print(f\"   📁 Adding {description}...\")\n",
        "\n",
        "            if os.path.isfile(item_path):\n",
        "                # Single file\n",
        "                zipf.write(item_path, os.path.basename(item_path))\n",
        "            else:\n",
        "                # Directory\n",
        "                for root, dirs, files in os.walk(item_path):\n",
        "                    for file in files:\n",
        "                        file_path = os.path.join(root, file)\n",
        "                        arcname = os.path.relpath(file_path, '.')\n",
        "                        zipf.write(file_path, arcname)\n",
        "\n",
        "    print(f\"✅ Results packaged in: {zip_filename}\")\n",
        "    return zip_filename\n",
        "\n",
        "# Package and download\n",
        "if MODEL_PATH and os.path.exists(MODEL_PATH):\n",
        "    zip_file = package_results()\n",
        "\n",
        "    if zip_file:\n",
        "        print(\"\\n⬇️ Downloading results...\")\n",
        "        try:\n",
        "            files.download(zip_file)\n",
        "            print(\"✅ Download started! Check your browser's download folder.\")\n",
        "        except Exception as e:\n",
        "            print(f\"⚠️ Download failed: {e}\")\n",
        "            print(f\"   • File saved locally as: {zip_file}\")\n",
        "    else:\n",
        "        print(\"⚠️ No results to download.\")\n",
        "else:\n",
        "    print(\"⚠️ No training results to download.\")\n",
        "    if SKIP_TRAINING:\n",
        "        print(\"   • Pre-trained model mode - no training artifacts to download\")\n",
        "    else:\n",
        "        print(\"   • Complete training first\")"
      ]
    },
    {
      "cell_type": "markdown",
      "id": "290560b0",
      "metadata": {
        "id": "290560b0"
      },
      "source": [
        "---\n",
        "\n",
        "## 🎯 Next Steps\n",
        "\n",
        "**Experiment Further:**\n",
        "- Try different model architectures (GRU, Transformer)\n",
        "- Experiment with hyperparameters in config files\n",
        "- Train on different datasets\n",
        "- Implement beam search for better text generation\n",
        "\n",
        "**Deploy Your Model:**\n",
        "- Export model for production use\n",
        "- Create a web interface for text generation\n",
        "- Fine-tune on domain-specific text\n",
        "\n",
        "**Learn More:**\n",
        "- Study attention mechanisms\n",
        "- Explore modern transformer architectures\n",
        "- Experiment with different text generation techniques\n",
        "\n",
        "---\n",
        "\n",
        "*This notebook demonstrated complete language modeling pipeline from data exploration to interactive text generation. Feel free to modify and extend it for your own experiments!*"
      ]
    }
  ],
  "metadata": {
    "accelerator": "GPU",
    "colab": {
      "gpuType": "T4",
      "provenance": [],
      "include_colab_link": true
    },
    "kernelspec": {
      "display_name": "Python 3",
      "name": "python3"
    },
    "language_info": {
      "name": "python"
    }
  },
  "nbformat": 4,
  "nbformat_minor": 5
}